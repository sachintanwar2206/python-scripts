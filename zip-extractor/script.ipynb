{
 "cells": [
  {
   "cell_type": "code",
   "execution_count": null,
   "metadata": {},
   "outputs": [],
   "source": [
    "import zipfile\n",
    "import os\n",
    "\n",
    "def extract_all_zips_in_folder(folder_path):\n",
    "    # List all files in the folder\n",
    "    files = os.listdir(folder_path)\n",
    "    \n",
    "    # Iterate over each file\n",
    "    for file in files:\n",
    "        # Check if the file is a zip file\n",
    "        if file.endswith('.zip'):\n",
    "            # Create the full path to the zip file\n",
    "            zip_path = os.path.join(folder_path, file)\n",
    "            \n",
    "            # Extract the zip file\n",
    "            with zipfile.ZipFile(zip_path, 'r') as zip_ref:\n",
    "                zip_ref.extractall(folder_path)\n",
    "                print(f\"Extracted: {zip_path}\")\n",
    "\n",
    "# Example usage\n",
    "folder_path = '{folder-path}'\n",
    "extract_all_zips_in_folder(folder_path)\n"
   ]
  }
 ],
 "metadata": {
  "kernelspec": {
   "display_name": "Python 3",
   "language": "python",
   "name": "python3"
  },
  "language_info": {
   "codemirror_mode": {
    "name": "ipython",
    "version": 3
   },
   "file_extension": ".py",
   "mimetype": "text/x-python",
   "name": "python",
   "nbconvert_exporter": "python",
   "pygments_lexer": "ipython3",
   "version": "3.11.9"
  }
 },
 "nbformat": 4,
 "nbformat_minor": 2
}
